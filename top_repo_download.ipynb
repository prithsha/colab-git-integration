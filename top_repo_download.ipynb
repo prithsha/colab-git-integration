{
 "cells": [
  {
   "cell_type": "code",
   "execution_count": null,
   "metadata": {},
   "outputs": [],
   "source": [
    "# Download the Repository \n",
    "!git clone \"https://github.com/prithsha/colab-git-integration.git\"\n",
    "\n",
    "\n",
    "# Go to required Jupyter notebook available in /src folder"
   ]
  }
 ],
 "metadata": {
  "language_info": {
   "name": "python"
  }
 },
 "nbformat": 4,
 "nbformat_minor": 2
}
