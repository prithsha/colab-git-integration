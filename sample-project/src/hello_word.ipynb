{
 "cells": [
  {
   "cell_type": "code",
   "execution_count": 1,
   "metadata": {},
   "outputs": [
    {
     "name": "stderr",
     "output_type": "stream",
     "text": [
      "2024-04-11 15:11:08,311\tINFO\tSampleProject\t<module>\tSCT logging configuration done\n"
     ]
    }
   ],
   "source": [
    "import sampleProject.loggingSetup\n",
    "from sampleProject.models.model1 import ModelOne\n"
   ]
  },
  {
   "cell_type": "code",
   "execution_count": 2,
   "metadata": {},
   "outputs": [],
   "source": [
    "import logging\n",
    "from sampleProject.common import constant\n",
    "from sampleProject.utility import myUtility\n",
    "\n",
    "logger = logging.getLogger(constant.APP_NAME).getChild(__name__)"
   ]
  },
  {
   "cell_type": "code",
   "execution_count": 3,
   "metadata": {},
   "outputs": [
    {
     "name": "stderr",
     "output_type": "stream",
     "text": [
      "2024-04-11 15:11:10,514\tINFO\tSampleProject.__main__\t<module>\t50\n",
      "2024-04-11 15:11:10,516\tWARNING\tSampleProject.__main__\t<module>\t5.962924534206705\n"
     ]
    }
   ],
   "source": [
    "x = ModelOne()\n",
    "logger.info(x.get_number())\n",
    "logger.warning(x.get_version())"
   ]
  },
  {
   "cell_type": "code",
   "execution_count": 4,
   "metadata": {},
   "outputs": [
    {
     "name": "stderr",
     "output_type": "stream",
     "text": [
      "2024-04-11 15:11:10,575\tINFO\tSampleProject.sampleProject.utility.myUtility\tget_device\tDevice : cuda\n",
      "2024-04-11 15:11:10,576\tINFO\tSampleProject.__main__\t<module>\tcuda\n"
     ]
    }
   ],
   "source": [
    "from sampleProject.common import constant\n",
    "\n",
    "logger.debug(constant.APP_NAME)\n",
    "logger.info(myUtility.get_device())"
   ]
  }
 ],
 "metadata": {
  "kernelspec": {
   "display_name": "cuda",
   "language": "python",
   "name": "python3"
  },
  "language_info": {
   "codemirror_mode": {
    "name": "ipython",
    "version": 3
   },
   "file_extension": ".py",
   "mimetype": "text/x-python",
   "name": "python",
   "nbconvert_exporter": "python",
   "pygments_lexer": "ipython3",
   "version": "3.10.13"
  }
 },
 "nbformat": 4,
 "nbformat_minor": 2
}
